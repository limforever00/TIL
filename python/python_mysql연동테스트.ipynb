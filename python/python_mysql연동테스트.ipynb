{
 "cells": [
  {
   "cell_type": "markdown",
   "id": "89a0b6ca-c750-4e45-a14d-ebc7bd7a7ca4",
   "metadata": {},
   "source": [
    "### 파이썬 DB 연동\n",
    " > CRUD 작업 처리\n",
    " > CREATE / READ / UPDATE / DELETE\n",
    " > INSERT / SELECT / UPDATE / DELETE"
   ]
  },
  {
   "cell_type": "markdown",
   "id": "aa73d5e5-a3b6-47dc-8690-38094278f33b",
   "metadata": {},
   "source": [
    "## 파이썬에서 Mysql 연동 패키지 지원\n",
    " > pymysql 패키지 사용"
   ]
  },
  {
   "cell_type": "code",
   "execution_count": 2,
   "id": "50bd3d4f-b450-4ae7-b021-7b25955f8472",
   "metadata": {},
   "outputs": [
    {
     "name": "stdout",
     "output_type": "stream",
     "text": [
      "Collecting pymysql\n",
      "  Obtaining dependency information for pymysql from https://files.pythonhosted.org/packages/e5/30/20467e39523d0cfc2b6227902d3687a16364307260c75e6a1cb4422b0c62/PyMySQL-1.1.0-py3-none-any.whl.metadata\n",
      "  Downloading PyMySQL-1.1.0-py3-none-any.whl.metadata (4.4 kB)\n",
      "Downloading PyMySQL-1.1.0-py3-none-any.whl (44 kB)\n",
      "   ---------------------------------------- 0.0/44.8 kB ? eta -:--:--\n",
      "   ------------------ --------------------- 20.5/44.8 kB 640.0 kB/s eta 0:00:01\n",
      "   ---------------------------------------- 44.8/44.8 kB 1.1 MB/s eta 0:00:00\n",
      "Installing collected packages: pymysql\n",
      "Successfully installed pymysql-1.1.0\n"
     ]
    }
   ],
   "source": [
    "!pip install pymysql"
   ]
  },
  {
   "cell_type": "code",
   "execution_count": 3,
   "id": "5968d6a0-933a-4a13-bda1-0c055b910b09",
   "metadata": {},
   "outputs": [],
   "source": [
    "# import해서 오류없으면 잘 설치된거\n",
    "import pymysql"
   ]
  },
  {
   "cell_type": "markdown",
   "id": "2818c39b-fbca-4106-90d4-176571a8eead",
   "metadata": {},
   "source": [
    "### dB 연동 순서\n",
    "    - 1. DB연결\n",
    "    - 2. cursor객체 생성\n",
    "    - 3. sql 구문 실행\n",
    "    - 4. 실행 결과 추출 (출력)"
   ]
  },
  {
   "cell_type": "code",
   "execution_count": 8,
   "id": "ae3b06de-05a8-4781-826c-ab005a705f4a",
   "metadata": {},
   "outputs": [],
   "source": [
    "# 1. DB연결\n",
    "# 호스트명, 포트번호, 로그인 계정, 비밀번호(pass, CHARSET 파라미터로 지정\n",
    "conn = pymysql.connect(host='localhost', port=3306,user='testuser', password='1234', charset='utf8')"
   ]
  },
  {
   "cell_type": "code",
   "execution_count": 10,
   "id": "489d4de4-a82e-4927-a766-4a3f530afd5c",
   "metadata": {},
   "outputs": [],
   "source": [
    "# 2. 연결 객체 생성\n",
    "# cursor 객체를 통해서 메소드 호출\n",
    "cursor = conn.cursor()"
   ]
  },
  {
   "cell_type": "code",
   "execution_count": 35,
   "id": "5557d8c2-ffa3-47b7-bb4b-860e8c2452ef",
   "metadata": {},
   "outputs": [],
   "source": [
    "# 3. sql문 실행\n",
    "# 데이터베이스 확인 sql문 실행\n",
    "sql = 'show databases'"
   ]
  },
  {
   "cell_type": "code",
   "execution_count": 41,
   "id": "d9fb7a14-c2b4-4208-bf96-aabf4d2bec98",
   "metadata": {},
   "outputs": [
    {
     "data": {
      "text/plain": [
       "10"
      ]
     },
     "execution_count": 41,
     "metadata": {},
     "output_type": "execute_result"
    }
   ],
   "source": [
    "# 실행결과 : 데이터베이스 개수\n",
    "# 실제로 쿼리 실행하는 부분이다\n",
    "# 쿼리결과 가져옴 cursor에 저장되어있음\n",
    "cursor.execute(sql)"
   ]
  },
  {
   "cell_type": "code",
   "execution_count": 42,
   "id": "253e7828-068b-42e2-ba53-d4b11bd56ed1",
   "metadata": {},
   "outputs": [],
   "source": [
    "# res에 결과 저장해서 확인할 수 있게 해줌\n",
    "res = cursor.fetchall()"
   ]
  },
  {
   "cell_type": "code",
   "execution_count": 43,
   "id": "39b8aa4e-a4aa-4e68-a166-e644ecaff434",
   "metadata": {},
   "outputs": [
    {
     "data": {
      "text/plain": [
       "(('information_schema',),\n",
       " ('mysql',),\n",
       " ('performance_schema',),\n",
       " ('sakila',),\n",
       " ('shopdb',),\n",
       " ('sqldb1',),\n",
       " ('sqldb2',),\n",
       " ('sqldb3',),\n",
       " ('sys',),\n",
       " ('world',))"
      ]
     },
     "execution_count": 43,
     "metadata": {},
     "output_type": "execute_result"
    }
   ],
   "source": [
    "res"
   ]
  },
  {
   "cell_type": "code",
   "execution_count": 45,
   "id": "96c02767-1755-46d9-b5e1-889758c4d192",
   "metadata": {},
   "outputs": [
    {
     "data": {
      "text/plain": [
       "1"
      ]
     },
     "execution_count": 45,
     "metadata": {},
     "output_type": "execute_result"
    }
   ],
   "source": [
    "sql = 'create database beauty_shop'\n",
    "cursor.execute(sql)"
   ]
  },
  {
   "cell_type": "code",
   "execution_count": 46,
   "id": "020e7e43-6c6e-474e-bf12-5579443b650c",
   "metadata": {},
   "outputs": [],
   "source": [
    "res = cursor.fetchall()"
   ]
  },
  {
   "cell_type": "code",
   "execution_count": 47,
   "id": "77ae6124-4cb3-4c42-937e-2d031e63e512",
   "metadata": {},
   "outputs": [
    {
     "data": {
      "text/plain": [
       "0"
      ]
     },
     "execution_count": 47,
     "metadata": {},
     "output_type": "execute_result"
    }
   ],
   "source": [
    "cursor.execute('drop database beauty_shop')"
   ]
  },
  {
   "cell_type": "code",
   "execution_count": 48,
   "id": "385d690b-8469-402f-9d86-58a6baabe256",
   "metadata": {},
   "outputs": [
    {
     "data": {
      "text/plain": [
       "0"
      ]
     },
     "execution_count": 48,
     "metadata": {},
     "output_type": "execute_result"
    }
   ],
   "source": [
    "sql = 'use sqldb3'\n",
    "cursor.execute(sql)"
   ]
  },
  {
   "cell_type": "code",
   "execution_count": 51,
   "id": "ba65535f-1a90-4745-ae0b-c86f44c78fff",
   "metadata": {},
   "outputs": [
    {
     "data": {
      "text/plain": [
       "0"
      ]
     },
     "execution_count": 51,
     "metadata": {},
     "output_type": "execute_result"
    }
   ],
   "source": [
    "sql = '''\n",
    "    create table shop(\n",
    "        proNo int auto_increment not null primary key,\n",
    "        prdName varchar(100),\n",
    "        prdPrice float,\n",
    "        prdisPirce float )\n",
    "'''\n",
    "cursor.execute(sql)"
   ]
  },
  {
   "cell_type": "code",
   "execution_count": 55,
   "id": "8e378156-3c3f-4e3b-9cbe-0ec05fca1404",
   "metadata": {},
   "outputs": [
    {
     "data": {
      "text/plain": [
       "(('book',),\n",
       " ('booksale',),\n",
       " ('client',),\n",
       " ('client_view',),\n",
       " ('flower',),\n",
       " ('movie',),\n",
       " ('new_book',),\n",
       " ('new_book2',),\n",
       " ('product',),\n",
       " ('publisher',),\n",
       " ('top5_sales_client',))"
      ]
     },
     "execution_count": 55,
     "metadata": {},
     "output_type": "execute_result"
    }
   ],
   "source": [
    "sql = 'show tables'\n",
    "cursor.execute(sql)\n",
    "res = cursor.fetchall()\n",
    "res"
   ]
  },
  {
   "cell_type": "code",
   "execution_count": 54,
   "id": "325d580a-2d43-4f13-a360-4506ec56a611",
   "metadata": {},
   "outputs": [
    {
     "data": {
      "text/plain": [
       "0"
      ]
     },
     "execution_count": 54,
     "metadata": {},
     "output_type": "execute_result"
    }
   ],
   "source": [
    "sql = 'drop table shop'\n",
    "cursor.execute(sql)"
   ]
  },
  {
   "cell_type": "code",
   "execution_count": 58,
   "id": "b11a9ac2-0ef2-44db-8b79-27eb05b4ee34",
   "metadata": {},
   "outputs": [
    {
     "name": "stdout",
     "output_type": "stream",
     "text": [
      "('1001', '데이터베이스 이론', '홍길동', 22000, datetime.date(2019, 11, 11), 5, '3')\n",
      "('1002', '자바 프로그래밍', '이몽룡', 25000, datetime.date(2021, 12, 12), 4, '1')\n",
      "('1003', '인터넷프로그래밍', '성춘향', 30000, datetime.date(2019, 2, 10), 10, '2')\n",
      "('1004', '안드로이드 프로그래밍', '변학도', 23000, datetime.date(2017, 10, 10), 2, '1')\n",
      "('1005', '안드로이드 앱', '강길동', 26000, datetime.date(2020, 1, 11), 5, '2')\n",
      "('1006', 'MS SQL SERVER 2014', '박지성', 35000, datetime.date(2020, 3, 25), 7, '3')\n",
      "('1007', 'HTML & CSS', '손흥민', 18000, datetime.date(2023, 9, 30), 3, '1')\n",
      "('1008', 'MFC 입문', '류현진', 20000, datetime.date(2015, 12, 12), 5, '1')\n",
      "('1009', '안드로이드 게임 제작', '나길동', 33000, datetime.date(2018, 10, 31), 5, '2')\n",
      "('1010', 'C++객체지향 프로그래밍', '추신수', 24000, datetime.date(2019, 4, 20), 2, '3')\n",
      "('1011', 'JSP 웹 프로그래밍', '김연아', 27000, datetime.date(2020, 10, 23), 8, '1')\n",
      "('1012', '해커들의 해킹 기법', '손연재', 32000, datetime.date(2018, 7, 7), 1, '2')\n",
      "('1013', '자료구조', '홍길동', 19000, datetime.date(2020, 1, 20), 4, '1')\n",
      "('1014', '파이썬', '성춘향', 35000, datetime.date(2023, 9, 25), 5, '2')\n",
      "('1015', '자바스크립 & jQuery', '홍길동', 27000, datetime.date(2019, 10, 22), 2, '2')\n"
     ]
    }
   ],
   "source": [
    "sql = 'select * from book'\n",
    "cursor.execute(sql)\n",
    "res = cursor.fetchall()\n",
    "for i in res:\n",
    "    print(i)"
   ]
  },
  {
   "cell_type": "code",
   "execution_count": null,
   "id": "d2379b2b-e514-4647-9580-0e9a408f7a4b",
   "metadata": {},
   "outputs": [],
   "source": [
    "# CRUD"
   ]
  },
  {
   "cell_type": "code",
   "execution_count": 64,
   "id": "3c1f81fd-683a-494a-8568-daa6100739a5",
   "metadata": {},
   "outputs": [
    {
     "name": "stdout",
     "output_type": "stream",
     "text": [
      "도서번호 <class 'tuple'>\n",
      "도서번호 <class 'tuple'>\n",
      "도서번호 <class 'tuple'>\n",
      "도서번호 <class 'tuple'>\n",
      "도서번호 <class 'tuple'>\n",
      "도서번호 <class 'tuple'>\n",
      "도서번호 <class 'tuple'>\n",
      "도서번호 <class 'tuple'>\n",
      "도서번호 <class 'tuple'>\n",
      "도서번호 <class 'tuple'>\n",
      "도서번호 <class 'tuple'>\n",
      "도서번호 <class 'tuple'>\n",
      "도서번호 <class 'tuple'>\n",
      "도서번호 <class 'tuple'>\n",
      "도서번호 <class 'tuple'>\n"
     ]
    }
   ],
   "source": [
    "for i in res:\n",
    "    print('도서번호', type(i))"
   ]
  },
  {
   "cell_type": "code",
   "execution_count": 66,
   "id": "79a2c0cb-736f-4961-bacc-821a29940d93",
   "metadata": {},
   "outputs": [
    {
     "name": "stdout",
     "output_type": "stream",
     "text": [
      "1003 인터넷프로그래밍 30000\n",
      "1006 MS SQL SERVER 2014 35000\n",
      "1009 안드로이드 게임 제작 33000\n",
      "1012 해커들의 해킹 기법 32000\n",
      "1014 파이썬 35000\n"
     ]
    }
   ],
   "source": [
    "sql = 'select bookNo, bookName, bookPrice from book where bookPrice >= 30000'\n",
    "cursor.execute(sql)\n",
    "res = cursor.fetchall()\n",
    "for i in res:\n",
    "    print(i[0], i[1], i[2])"
   ]
  },
  {
   "cell_type": "code",
   "execution_count": 67,
   "id": "2112d3fe-da4b-4e64-9475-2d6f0f783f8c",
   "metadata": {},
   "outputs": [
    {
     "name": "stdout",
     "output_type": "stream",
     "text": [
      "bookNo varchar(10) NO\n",
      "bookName varchar(30) NO\n",
      "bookAuthor varchar(20) NO\n",
      "bookPrice int YES\n",
      "bookDate date YES\n",
      "bookStock int YES\n",
      "pubNo varchar(10) NO\n"
     ]
    }
   ],
   "source": [
    "# 컬럼명 가져오기\n",
    "sql = 'describe book'\n",
    "cursor.execute(sql)\n",
    "res = cursor.fetchall()\n",
    "for i in res:\n",
    "    print(i[0], i[1], i[2])"
   ]
  },
  {
   "cell_type": "code",
   "execution_count": null,
   "id": "318295da",
   "metadata": {},
   "outputs": [],
   "source": [
    "cursor.close()\n",
    "conn.close()"
   ]
  }
 ],
 "metadata": {
  "kernelspec": {
   "display_name": "Python 3 (ipykernel)",
   "language": "python",
   "name": "python3"
  },
  "language_info": {
   "codemirror_mode": {
    "name": "ipython",
    "version": 3
   },
   "file_extension": ".py",
   "mimetype": "text/x-python",
   "name": "python",
   "nbconvert_exporter": "python",
   "pygments_lexer": "ipython3",
   "version": "3.11.5"
  }
 },
 "nbformat": 4,
 "nbformat_minor": 5
}
